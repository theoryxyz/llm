{
  "cells": [
    {
      "cell_type": "markdown",
      "metadata": {
        "id": "view-in-github",
        "colab_type": "text"
      },
      "source": [
        "<a href=\"https://colab.research.google.com/github/theoryxyz/llm/blob/main/ragchatbot.ipynb\" target=\"_parent\"><img src=\"https://colab.research.google.com/assets/colab-badge.svg\" alt=\"Open In Colab\"/></a>"
      ]
    },
    {
      "cell_type": "code",
      "execution_count": null,
      "metadata": {
        "id": "AnHGeO2ThYES"
      },
      "outputs": [],
      "source": [
        "!pip install langchain langchain-community sentence-transformers faiss-cpu transformers accelerate bitsandbytes\n",
        "!pip install -U bitsandbytes"
      ]
    },
    {
      "cell_type": "code",
      "execution_count": null,
      "metadata": {
        "id": "prD5T9TLwlqo",
        "collapsed": true
      },
      "outputs": [],
      "source": [
        "import torch\n",
        "from langchain_community.llms.huggingface_pipeline import HuggingFacePipeline\n",
        "from langchain_community.embeddings import HuggingFaceEmbeddings\n",
        "from langchain.vectorstores import FAISS\n",
        "from langchain.text_splitter import RecursiveCharacterTextSplitter\n",
        "from langchain.chains import RetrievalQA\n",
        "from langchain.document_loaders import TextLoader\n",
        "from transformers import AutoTokenizer, AutoModelForCausalLM, pipeline\n",
        "from google.colab import drive # Google Driveをマウントするために必要\n",
        "\n",
        "try:\n",
        "    # Google Driveをマウント\n",
        "    drive.mount('/content/drive', force_remount=True)\n",
        "    print(\"Google Driveがマウントされました。\")\n",
        "except Exception as e:\n",
        "    print(f\"Google Driveのマウント中にエラーが発生しました: {e}\")\n",
        "\n",
        "print(\"\\n準備ステップが完了しました。\")"
      ]
    },
    {
      "cell_type": "code",
      "execution_count": null,
      "metadata": {
        "id": "dItBInfdugnE"
      },
      "outputs": [],
      "source": [
        "# ドキュメントの読み込み\n",
        "loader = TextLoader('/content/drive/My Drive/Colab Notebooks/ragchatbot/resume.txt')\n",
        "documents = loader.load()\n",
        "\n",
        "# ドキュメントを適切なサイズに分割\n",
        "text_splitter = RecursiveCharacterTextSplitter(chunk_size=1000, chunk_overlap=100)\n",
        "texts = text_splitter.split_documents(documents)"
      ]
    },
    {
      "cell_type": "code",
      "execution_count": null,
      "metadata": {
        "collapsed": true,
        "id": "76441c36"
      },
      "outputs": [],
      "source": [
        "from huggingface_hub import notebook_login\n",
        "notebook_login()"
      ]
    },
    {
      "cell_type": "code",
      "execution_count": null,
      "metadata": {
        "id": "yatisUFOMUnI"
      },
      "outputs": [],
      "source": [
        "# 無償で利用できる、日本語に強い埋め込みモデルを指定\n",
        "model_name = \"intfloat/multilingual-e5-large\"\n",
        "embeddings = HuggingFaceEmbeddings(model_name=model_name)\n",
        "\n",
        "# FAISSを使用してベクトルストアを作成\n",
        "vectorstore = FAISS.from_documents(texts, embeddings)"
      ]
    },
    {
      "cell_type": "code",
      "execution_count": null,
      "metadata": {
        "id": "ckGa8-DUM7EV"
      },
      "outputs": [],
      "source": [
        "# Googleのオープンソースモデル \"Gemma-2b-it\" を指定\n",
        "model_id = \"google/gemma-2b-it\"\n",
        "\n",
        "# Hugging Faceトークンを明示的に渡す (notebook_login() 実行後に利用可能)\n",
        "# from huggingface_hub import HfApi\n",
        "# api = HfApi()\n",
        "# token = api.token # または notebook_login() 後に自動で設定される環境変数などから取得\n",
        "\n",
        "# トークナイザーとモデルを準備する際に、認証トークンを渡す\n",
        "# もし notebook_login() で設定された環境変数等が自動で使われない場合、以下の token=... を有効にしてください\n",
        "# 例: from huggingface_hub import HfFolder; token = HfFolder.get_token()\n",
        "\n",
        "# モデルのトークナイザー（文章を単語に分割するツール）を準備\n",
        "tokenizer = AutoTokenizer.from_pretrained(model_id) # , token=token を追加することも検討\n",
        "\n",
        "# モデル本体を準備（4bit量子化でメモリ消費を抑える）\n",
        "model = AutoModelForCausalLM.from_pretrained(\n",
        "    model_id,\n",
        "    torch_dtype=torch.bfloat16,\n",
        "    device_map=\"auto\",\n",
        "    load_in_4bit=True\n",
        "    # , token=token を追加することも検討\n",
        ")\n",
        "\n",
        "# LangChainで使えるように、Hugging Faceのpipeline機能でラップする\n",
        "pipe = pipeline(\n",
        "    \"text-generation\",\n",
        "    model=model,\n",
        "    tokenizer=tokenizer,\n",
        "    max_new_tokens=512 # 最大出力トークン数\n",
        ")\n",
        "\n",
        "llm = HuggingFacePipeline(pipeline=pipe)"
      ]
    },
    {
      "cell_type": "code",
      "source": [
        "# ベクトルストアを検索機（Retriever）として設定\n",
        "retriever = vectorstore.as_retriever()\n",
        "\n",
        "# RAGチェーンの作成\n",
        "qa_chain = RetrievalQA.from_chain_type(\n",
        "    llm=llm,\n",
        "    chain_type=\"stuff\",\n",
        "    retriever=retriever,\n",
        "    return_source_documents=True # 参考にした文章も表示する設定\n",
        ")\n",
        "\n",
        "# 質問を実行！\n",
        "query = \"望月さんの強みは何ですか？\"\n",
        "response = qa_chain.invoke(query)\n",
        "\n",
        "print(\"【回答】\")\n",
        "print(response['result'])\n",
        "print(\"\\n【参考にした情報】\")\n",
        "for doc in response['source_documents']:\n",
        "    print(\"- \" + doc.page_content[:150] + \"...\")"
      ],
      "metadata": {
        "collapsed": true,
        "id": "05G8I4-PkBHd"
      },
      "execution_count": null,
      "outputs": []
    },
    {
      "cell_type": "code",
      "source": [
        "# 質問を実行！\n",
        "query = \"望月さんの開発エンジニアとしての強みは何ですか？\"\n",
        "response = qa_chain.invoke(query)\n",
        "\n",
        "print(\"【回答】\")\n",
        "print(response['result'])\n",
        "print(\"\\n【参考にした情報】\")\n",
        "for doc in response['source_documents']:\n",
        "    print(\"- \" + doc.page_content[:150] + \"...\")"
      ],
      "metadata": {
        "id": "uDe3-CJNz88u"
      },
      "execution_count": null,
      "outputs": []
    }
  ],
  "metadata": {
    "colab": {
      "provenance": [],
      "authorship_tag": "ABX9TyO04/jYaS+HBHa6eUQNUDaJ",
      "include_colab_link": true
    },
    "kernelspec": {
      "display_name": "Python 3",
      "name": "python3"
    },
    "language_info": {
      "name": "python"
    }
  },
  "nbformat": 4,
  "nbformat_minor": 0
}